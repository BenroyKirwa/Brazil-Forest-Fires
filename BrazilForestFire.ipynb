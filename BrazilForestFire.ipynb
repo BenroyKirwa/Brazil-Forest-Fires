{
 "cells": [
  {
   "cell_type": "code",
   "execution_count": 1,
   "id": "88dfc6f9-4be9-4c2e-aaf3-81a3df7a275a",
   "metadata": {
    "tags": []
   },
   "outputs": [],
   "source": [
    "# importing libraries\n",
    "import pandas as pd\n",
    "import seaborn as sns\n",
    "import matplotlib.pyplot as plt"
   ]
  },
  {
   "cell_type": "code",
   "execution_count": 2,
   "id": "e0bfbe9b-3fd0-4c4b-b25a-a22ecc5f64d0",
   "metadata": {
    "tags": []
   },
   "outputs": [],
   "source": [
    "data = pd.read_csv('amazon.csv', encoding=\"iso-8859-1\")"
   ]
  },
  {
   "cell_type": "code",
   "execution_count": 3,
   "id": "025506de-8760-4248-b343-710b2883dc2d",
   "metadata": {
    "tags": []
   },
   "outputs": [
    {
     "data": {
      "text/plain": [
       "year        int64\n",
       "state      object\n",
       "month      object\n",
       "number    float64\n",
       "date       object\n",
       "dtype: object"
      ]
     },
     "execution_count": 3,
     "metadata": {},
     "output_type": "execute_result"
    }
   ],
   "source": [
    "data.dtypes"
   ]
  },
  {
   "cell_type": "code",
   "execution_count": 4,
   "id": "f9388088-5027-45f6-9471-60b1cabd057c",
   "metadata": {
    "tags": []
   },
   "outputs": [],
   "source": [
    "data = pd.read_csv('amazon.csv', encoding=\"iso-8859-1\", parse_dates=['date'])"
   ]
  },
  {
   "cell_type": "code",
   "execution_count": 5,
   "id": "643f0b88-cf60-4d3c-bf1a-99f6a4c0dd2b",
   "metadata": {
    "tags": []
   },
   "outputs": [
    {
     "data": {
      "text/plain": [
       "year               int64\n",
       "state             object\n",
       "month             object\n",
       "number           float64\n",
       "date      datetime64[ns]\n",
       "dtype: object"
      ]
     },
     "execution_count": 5,
     "metadata": {},
     "output_type": "execute_result"
    }
   ],
   "source": [
    "data.dtypes"
   ]
  },
  {
   "cell_type": "code",
   "execution_count": 6,
   "id": "ecc7d064-b242-412c-8453-e888c7ebc597",
   "metadata": {
    "tags": []
   },
   "outputs": [
    {
     "data": {
      "text/html": [
       "<div>\n",
       "<style scoped>\n",
       "    .dataframe tbody tr th:only-of-type {\n",
       "        vertical-align: middle;\n",
       "    }\n",
       "\n",
       "    .dataframe tbody tr th {\n",
       "        vertical-align: top;\n",
       "    }\n",
       "\n",
       "    .dataframe thead th {\n",
       "        text-align: right;\n",
       "    }\n",
       "</style>\n",
       "<table border=\"1\" class=\"dataframe\">\n",
       "  <thead>\n",
       "    <tr style=\"text-align: right;\">\n",
       "      <th></th>\n",
       "      <th>year</th>\n",
       "      <th>state</th>\n",
       "      <th>month</th>\n",
       "      <th>number</th>\n",
       "      <th>date</th>\n",
       "    </tr>\n",
       "  </thead>\n",
       "  <tbody>\n",
       "    <tr>\n",
       "      <th>0</th>\n",
       "      <td>1998</td>\n",
       "      <td>Acre</td>\n",
       "      <td>Janeiro</td>\n",
       "      <td>0.0</td>\n",
       "      <td>1998-01-01</td>\n",
       "    </tr>\n",
       "    <tr>\n",
       "      <th>1</th>\n",
       "      <td>1999</td>\n",
       "      <td>Acre</td>\n",
       "      <td>Janeiro</td>\n",
       "      <td>0.0</td>\n",
       "      <td>1999-01-01</td>\n",
       "    </tr>\n",
       "    <tr>\n",
       "      <th>2</th>\n",
       "      <td>2000</td>\n",
       "      <td>Acre</td>\n",
       "      <td>Janeiro</td>\n",
       "      <td>0.0</td>\n",
       "      <td>2000-01-01</td>\n",
       "    </tr>\n",
       "    <tr>\n",
       "      <th>3</th>\n",
       "      <td>2001</td>\n",
       "      <td>Acre</td>\n",
       "      <td>Janeiro</td>\n",
       "      <td>0.0</td>\n",
       "      <td>2001-01-01</td>\n",
       "    </tr>\n",
       "    <tr>\n",
       "      <th>4</th>\n",
       "      <td>2002</td>\n",
       "      <td>Acre</td>\n",
       "      <td>Janeiro</td>\n",
       "      <td>0.0</td>\n",
       "      <td>2002-01-01</td>\n",
       "    </tr>\n",
       "  </tbody>\n",
       "</table>\n",
       "</div>"
      ],
      "text/plain": [
       "   year state    month  number       date\n",
       "0  1998  Acre  Janeiro     0.0 1998-01-01\n",
       "1  1999  Acre  Janeiro     0.0 1999-01-01\n",
       "2  2000  Acre  Janeiro     0.0 2000-01-01\n",
       "3  2001  Acre  Janeiro     0.0 2001-01-01\n",
       "4  2002  Acre  Janeiro     0.0 2002-01-01"
      ]
     },
     "execution_count": 6,
     "metadata": {},
     "output_type": "execute_result"
    }
   ],
   "source": [
    "data.head()"
   ]
  },
  {
   "cell_type": "code",
   "execution_count": 8,
   "id": "13dc4dd3-c951-4701-9a86-91056a34cf92",
   "metadata": {
    "tags": []
   },
   "outputs": [
    {
     "data": {
      "text/plain": [
       "(6454, 5)"
      ]
     },
     "execution_count": 8,
     "metadata": {},
     "output_type": "execute_result"
    }
   ],
   "source": [
    "data.shape"
   ]
  },
  {
   "cell_type": "code",
   "execution_count": 9,
   "id": "91cb6548-4fda-4781-9335-b5d46507ab6e",
   "metadata": {
    "tags": []
   },
   "outputs": [
    {
     "name": "stdout",
     "output_type": "stream",
     "text": [
      "<class 'pandas.core.frame.DataFrame'>\n",
      "RangeIndex: 6454 entries, 0 to 6453\n",
      "Data columns (total 5 columns):\n",
      " #   Column  Non-Null Count  Dtype         \n",
      "---  ------  --------------  -----         \n",
      " 0   year    6454 non-null   int64         \n",
      " 1   state   6454 non-null   object        \n",
      " 2   month   6454 non-null   object        \n",
      " 3   number  6454 non-null   float64       \n",
      " 4   date    6454 non-null   datetime64[ns]\n",
      "dtypes: datetime64[ns](1), float64(1), int64(1), object(2)\n",
      "memory usage: 252.2+ KB\n"
     ]
    }
   ],
   "source": [
    "data.info()"
   ]
  },
  {
   "cell_type": "code",
   "execution_count": 10,
   "id": "7a67772a-f7b4-4922-8668-0bad340a23d7",
   "metadata": {
    "tags": []
   },
   "outputs": [],
   "source": [
    "data = data.drop_duplicates()"
   ]
  },
  {
   "cell_type": "code",
   "execution_count": 11,
   "id": "90b07836-4a3d-405f-aa58-661f1bcd292c",
   "metadata": {
    "tags": []
   },
   "outputs": [
    {
     "data": {
      "text/plain": [
       "year      0\n",
       "state     0\n",
       "month     0\n",
       "number    0\n",
       "date      0\n",
       "dtype: int64"
      ]
     },
     "execution_count": 11,
     "metadata": {},
     "output_type": "execute_result"
    }
   ],
   "source": [
    "data.isnull().sum()"
   ]
  },
  {
   "cell_type": "code",
   "execution_count": 12,
   "id": "f678163d-c96f-4f94-8bf0-0be3d9014f64",
   "metadata": {
    "tags": []
   },
   "outputs": [
    {
     "data": {
      "text/html": [
       "<div>\n",
       "<style scoped>\n",
       "    .dataframe tbody tr th:only-of-type {\n",
       "        vertical-align: middle;\n",
       "    }\n",
       "\n",
       "    .dataframe tbody tr th {\n",
       "        vertical-align: top;\n",
       "    }\n",
       "\n",
       "    .dataframe thead th {\n",
       "        text-align: right;\n",
       "    }\n",
       "</style>\n",
       "<table border=\"1\" class=\"dataframe\">\n",
       "  <thead>\n",
       "    <tr style=\"text-align: right;\">\n",
       "      <th></th>\n",
       "      <th>year</th>\n",
       "      <th>number</th>\n",
       "      <th>date</th>\n",
       "    </tr>\n",
       "  </thead>\n",
       "  <tbody>\n",
       "    <tr>\n",
       "      <th>count</th>\n",
       "      <td>6422.000000</td>\n",
       "      <td>6422.000000</td>\n",
       "      <td>6422</td>\n",
       "    </tr>\n",
       "    <tr>\n",
       "      <th>mean</th>\n",
       "      <td>2007.490969</td>\n",
       "      <td>108.815178</td>\n",
       "      <td>2007-06-29 10:46:40.622859008</td>\n",
       "    </tr>\n",
       "    <tr>\n",
       "      <th>min</th>\n",
       "      <td>1998.000000</td>\n",
       "      <td>0.000000</td>\n",
       "      <td>1998-01-01 00:00:00</td>\n",
       "    </tr>\n",
       "    <tr>\n",
       "      <th>25%</th>\n",
       "      <td>2003.000000</td>\n",
       "      <td>3.000000</td>\n",
       "      <td>2003-01-01 00:00:00</td>\n",
       "    </tr>\n",
       "    <tr>\n",
       "      <th>50%</th>\n",
       "      <td>2007.000000</td>\n",
       "      <td>24.497000</td>\n",
       "      <td>2007-01-01 00:00:00</td>\n",
       "    </tr>\n",
       "    <tr>\n",
       "      <th>75%</th>\n",
       "      <td>2012.000000</td>\n",
       "      <td>114.000000</td>\n",
       "      <td>2012-01-01 00:00:00</td>\n",
       "    </tr>\n",
       "    <tr>\n",
       "      <th>max</th>\n",
       "      <td>2017.000000</td>\n",
       "      <td>998.000000</td>\n",
       "      <td>2017-01-01 00:00:00</td>\n",
       "    </tr>\n",
       "    <tr>\n",
       "      <th>std</th>\n",
       "      <td>5.731806</td>\n",
       "      <td>191.142482</td>\n",
       "      <td>NaN</td>\n",
       "    </tr>\n",
       "  </tbody>\n",
       "</table>\n",
       "</div>"
      ],
      "text/plain": [
       "              year       number                           date\n",
       "count  6422.000000  6422.000000                           6422\n",
       "mean   2007.490969   108.815178  2007-06-29 10:46:40.622859008\n",
       "min    1998.000000     0.000000            1998-01-01 00:00:00\n",
       "25%    2003.000000     3.000000            2003-01-01 00:00:00\n",
       "50%    2007.000000    24.497000            2007-01-01 00:00:00\n",
       "75%    2012.000000   114.000000            2012-01-01 00:00:00\n",
       "max    2017.000000   998.000000            2017-01-01 00:00:00\n",
       "std       5.731806   191.142482                            NaN"
      ]
     },
     "execution_count": 12,
     "metadata": {},
     "output_type": "execute_result"
    }
   ],
   "source": [
    "data.describe()"
   ]
  },
  {
   "cell_type": "code",
   "execution_count": 15,
   "id": "88e94456-f901-4880-a190-d3ba443415b4",
   "metadata": {
    "tags": []
   },
   "outputs": [],
   "source": [
    "data['month_new']=data['month'].map({'janiero':'jan',\n",
    "                                     'fevereiro':'feb',\n",
    "                                     'marco':'march',\n",
    "                                     'abril':'april',\n",
    "                                     'maio':'May',\n",
    "                                     'junho':'jun',\n",
    "                                     'julho':'july',\n",
    "                                     'agosto':'august',\n",
    "                                     'setembro':'sep',\n",
    "                                     'outubro':'oct',\n",
    "                                     'novembro':'nov',\n",
    "                                     'dezembro':'dec'\n",
    "                                    })"
   ]
  },
  {
   "cell_type": "code",
   "execution_count": 17,
   "id": "69db60c8-6895-41b3-8db4-cc980128189e",
   "metadata": {
    "tags": []
   },
   "outputs": [
    {
     "data": {
      "text/html": [
       "<div>\n",
       "<style scoped>\n",
       "    .dataframe tbody tr th:only-of-type {\n",
       "        vertical-align: middle;\n",
       "    }\n",
       "\n",
       "    .dataframe tbody tr th {\n",
       "        vertical-align: top;\n",
       "    }\n",
       "\n",
       "    .dataframe thead th {\n",
       "        text-align: right;\n",
       "    }\n",
       "</style>\n",
       "<table border=\"1\" class=\"dataframe\">\n",
       "  <thead>\n",
       "    <tr style=\"text-align: right;\">\n",
       "      <th></th>\n",
       "      <th>year</th>\n",
       "      <th>state</th>\n",
       "      <th>month</th>\n",
       "      <th>number</th>\n",
       "      <th>date</th>\n",
       "      <th>month_new</th>\n",
       "    </tr>\n",
       "  </thead>\n",
       "  <tbody>\n",
       "    <tr>\n",
       "      <th>6449</th>\n",
       "      <td>2012</td>\n",
       "      <td>Tocantins</td>\n",
       "      <td>Dezembro</td>\n",
       "      <td>128.0</td>\n",
       "      <td>2012-01-01</td>\n",
       "      <td>NaN</td>\n",
       "    </tr>\n",
       "    <tr>\n",
       "      <th>6450</th>\n",
       "      <td>2013</td>\n",
       "      <td>Tocantins</td>\n",
       "      <td>Dezembro</td>\n",
       "      <td>85.0</td>\n",
       "      <td>2013-01-01</td>\n",
       "      <td>NaN</td>\n",
       "    </tr>\n",
       "    <tr>\n",
       "      <th>6451</th>\n",
       "      <td>2014</td>\n",
       "      <td>Tocantins</td>\n",
       "      <td>Dezembro</td>\n",
       "      <td>223.0</td>\n",
       "      <td>2014-01-01</td>\n",
       "      <td>NaN</td>\n",
       "    </tr>\n",
       "    <tr>\n",
       "      <th>6452</th>\n",
       "      <td>2015</td>\n",
       "      <td>Tocantins</td>\n",
       "      <td>Dezembro</td>\n",
       "      <td>373.0</td>\n",
       "      <td>2015-01-01</td>\n",
       "      <td>NaN</td>\n",
       "    </tr>\n",
       "    <tr>\n",
       "      <th>6453</th>\n",
       "      <td>2016</td>\n",
       "      <td>Tocantins</td>\n",
       "      <td>Dezembro</td>\n",
       "      <td>119.0</td>\n",
       "      <td>2016-01-01</td>\n",
       "      <td>NaN</td>\n",
       "    </tr>\n",
       "  </tbody>\n",
       "</table>\n",
       "</div>"
      ],
      "text/plain": [
       "      year      state     month  number       date month_new\n",
       "6449  2012  Tocantins  Dezembro   128.0 2012-01-01       NaN\n",
       "6450  2013  Tocantins  Dezembro    85.0 2013-01-01       NaN\n",
       "6451  2014  Tocantins  Dezembro   223.0 2014-01-01       NaN\n",
       "6452  2015  Tocantins  Dezembro   373.0 2015-01-01       NaN\n",
       "6453  2016  Tocantins  Dezembro   119.0 2016-01-01       NaN"
      ]
     },
     "execution_count": 17,
     "metadata": {},
     "output_type": "execute_result"
    }
   ],
   "source": [
    "data.tail()"
   ]
  },
  {
   "cell_type": "code",
   "execution_count": 18,
   "id": "52fb4d5b-46a0-4ab0-a5ab-1b86ada17cc1",
   "metadata": {
    "tags": []
   },
   "outputs": [],
   "source": [
    "data1 = data.groupby('month')['number'].sum().reset_index()"
   ]
  },
  {
   "cell_type": "code",
   "execution_count": 19,
   "id": "f0c84a67-3127-4a78-aee3-3b9162a67210",
   "metadata": {
    "tags": []
   },
   "outputs": [
    {
     "data": {
      "text/html": [
       "<div>\n",
       "<style scoped>\n",
       "    .dataframe tbody tr th:only-of-type {\n",
       "        vertical-align: middle;\n",
       "    }\n",
       "\n",
       "    .dataframe tbody tr th {\n",
       "        vertical-align: top;\n",
       "    }\n",
       "\n",
       "    .dataframe thead th {\n",
       "        text-align: right;\n",
       "    }\n",
       "</style>\n",
       "<table border=\"1\" class=\"dataframe\">\n",
       "  <thead>\n",
       "    <tr style=\"text-align: right;\">\n",
       "      <th></th>\n",
       "      <th>month</th>\n",
       "      <th>number</th>\n",
       "    </tr>\n",
       "  </thead>\n",
       "  <tbody>\n",
       "    <tr>\n",
       "      <th>0</th>\n",
       "      <td>Abril</td>\n",
       "      <td>28184.770</td>\n",
       "    </tr>\n",
       "    <tr>\n",
       "      <th>1</th>\n",
       "      <td>Agosto</td>\n",
       "      <td>88050.435</td>\n",
       "    </tr>\n",
       "    <tr>\n",
       "      <th>2</th>\n",
       "      <td>Dezembro</td>\n",
       "      <td>57535.480</td>\n",
       "    </tr>\n",
       "    <tr>\n",
       "      <th>3</th>\n",
       "      <td>Fevereiro</td>\n",
       "      <td>30839.050</td>\n",
       "    </tr>\n",
       "    <tr>\n",
       "      <th>4</th>\n",
       "      <td>Janeiro</td>\n",
       "      <td>47681.844</td>\n",
       "    </tr>\n",
       "    <tr>\n",
       "      <th>5</th>\n",
       "      <td>Julho</td>\n",
       "      <td>92319.113</td>\n",
       "    </tr>\n",
       "    <tr>\n",
       "      <th>6</th>\n",
       "      <td>Junho</td>\n",
       "      <td>55997.675</td>\n",
       "    </tr>\n",
       "    <tr>\n",
       "      <th>7</th>\n",
       "      <td>Maio</td>\n",
       "      <td>34725.363</td>\n",
       "    </tr>\n",
       "    <tr>\n",
       "      <th>8</th>\n",
       "      <td>Março</td>\n",
       "      <td>30709.405</td>\n",
       "    </tr>\n",
       "    <tr>\n",
       "      <th>9</th>\n",
       "      <td>Novembro</td>\n",
       "      <td>85508.054</td>\n",
       "    </tr>\n",
       "    <tr>\n",
       "      <th>10</th>\n",
       "      <td>Outubro</td>\n",
       "      <td>88681.579</td>\n",
       "    </tr>\n",
       "    <tr>\n",
       "      <th>11</th>\n",
       "      <td>Setembro</td>\n",
       "      <td>58578.305</td>\n",
       "    </tr>\n",
       "  </tbody>\n",
       "</table>\n",
       "</div>"
      ],
      "text/plain": [
       "        month     number\n",
       "0       Abril  28184.770\n",
       "1      Agosto  88050.435\n",
       "2    Dezembro  57535.480\n",
       "3   Fevereiro  30839.050\n",
       "4     Janeiro  47681.844\n",
       "5       Julho  92319.113\n",
       "6       Junho  55997.675\n",
       "7        Maio  34725.363\n",
       "8       Março  30709.405\n",
       "9    Novembro  85508.054\n",
       "10    Outubro  88681.579\n",
       "11   Setembro  58578.305"
      ]
     },
     "execution_count": 19,
     "metadata": {},
     "output_type": "execute_result"
    }
   ],
   "source": [
    "data1"
   ]
  },
  {
   "cell_type": "code",
   "execution_count": 22,
   "id": "1712d695-05b2-4800-946a-bd6a741b6a9b",
   "metadata": {
    "tags": []
   },
   "outputs": [
    {
     "data": {
      "text/plain": [
       "<Axes: xlabel='month', ylabel='number'>"
      ]
     },
     "execution_count": 22,
     "metadata": {},
     "output_type": "execute_result"
    },
    {
     "data": {
      "image/png": "[encoded data removed]",
      "text/plain": [
       "<Figure size 1600x500 with 1 Axes>"
      ]
     },
     "metadata": {},
     "output_type": "display_data"
    }
   ],
   "source": [
    "plt.figure(figsize=(16, 5))\n",
    "sns.barplot(x=\"month\", y=\"number\", data=data1)"
   ]
  },
  {
   "cell_type": "code",
   "execution_count": 21,
   "id": "be30c964-2754-4835-ac49-8be235e86b56",
   "metadata": {
    "tags": []
   },
   "outputs": [
    {
     "data": {
      "text/html": [
       "<div>\n",
       "<style scoped>\n",
       "    .dataframe tbody tr th:only-of-type {\n",
       "        vertical-align: middle;\n",
       "    }\n",
       "\n",
       "    .dataframe tbody tr th {\n",
       "        vertical-align: top;\n",
       "    }\n",
       "\n",
       "    .dataframe thead th {\n",
       "        text-align: right;\n",
       "    }\n",
       "</style>\n",
       "<table border=\"1\" class=\"dataframe\">\n",
       "  <thead>\n",
       "    <tr style=\"text-align: right;\">\n",
       "      <th></th>\n",
       "      <th>year</th>\n",
       "      <th>number</th>\n",
       "    </tr>\n",
       "  </thead>\n",
       "  <tbody>\n",
       "    <tr>\n",
       "      <th>0</th>\n",
       "      <td>1998</td>\n",
       "      <td>20013.971</td>\n",
       "    </tr>\n",
       "    <tr>\n",
       "      <th>1</th>\n",
       "      <td>1999</td>\n",
       "      <td>26882.821</td>\n",
       "    </tr>\n",
       "    <tr>\n",
       "      <th>2</th>\n",
       "      <td>2000</td>\n",
       "      <td>27351.251</td>\n",
       "    </tr>\n",
       "    <tr>\n",
       "      <th>3</th>\n",
       "      <td>2001</td>\n",
       "      <td>29054.612</td>\n",
       "    </tr>\n",
       "    <tr>\n",
       "      <th>4</th>\n",
       "      <td>2002</td>\n",
       "      <td>37390.600</td>\n",
       "    </tr>\n",
       "    <tr>\n",
       "      <th>5</th>\n",
       "      <td>2003</td>\n",
       "      <td>42760.674</td>\n",
       "    </tr>\n",
       "    <tr>\n",
       "      <th>6</th>\n",
       "      <td>2004</td>\n",
       "      <td>38450.163</td>\n",
       "    </tr>\n",
       "    <tr>\n",
       "      <th>7</th>\n",
       "      <td>2005</td>\n",
       "      <td>35004.965</td>\n",
       "    </tr>\n",
       "    <tr>\n",
       "      <th>8</th>\n",
       "      <td>2006</td>\n",
       "      <td>33824.161</td>\n",
       "    </tr>\n",
       "    <tr>\n",
       "      <th>9</th>\n",
       "      <td>2007</td>\n",
       "      <td>33028.413</td>\n",
       "    </tr>\n",
       "    <tr>\n",
       "      <th>10</th>\n",
       "      <td>2008</td>\n",
       "      <td>29378.964</td>\n",
       "    </tr>\n",
       "    <tr>\n",
       "      <th>11</th>\n",
       "      <td>2009</td>\n",
       "      <td>39116.178</td>\n",
       "    </tr>\n",
       "    <tr>\n",
       "      <th>12</th>\n",
       "      <td>2010</td>\n",
       "      <td>37037.449</td>\n",
       "    </tr>\n",
       "    <tr>\n",
       "      <th>13</th>\n",
       "      <td>2011</td>\n",
       "      <td>34633.545</td>\n",
       "    </tr>\n",
       "    <tr>\n",
       "      <th>14</th>\n",
       "      <td>2012</td>\n",
       "      <td>40084.860</td>\n",
       "    </tr>\n",
       "    <tr>\n",
       "      <th>15</th>\n",
       "      <td>2013</td>\n",
       "      <td>35137.118</td>\n",
       "    </tr>\n",
       "    <tr>\n",
       "      <th>16</th>\n",
       "      <td>2014</td>\n",
       "      <td>39621.183</td>\n",
       "    </tr>\n",
       "    <tr>\n",
       "      <th>17</th>\n",
       "      <td>2015</td>\n",
       "      <td>41208.292</td>\n",
       "    </tr>\n",
       "    <tr>\n",
       "      <th>18</th>\n",
       "      <td>2016</td>\n",
       "      <td>42212.229</td>\n",
       "    </tr>\n",
       "    <tr>\n",
       "      <th>19</th>\n",
       "      <td>2017</td>\n",
       "      <td>36619.624</td>\n",
       "    </tr>\n",
       "  </tbody>\n",
       "</table>\n",
       "</div>"
      ],
      "text/plain": [
       "    year     number\n",
       "0   1998  20013.971\n",
       "1   1999  26882.821\n",
       "2   2000  27351.251\n",
       "3   2001  29054.612\n",
       "4   2002  37390.600\n",
       "5   2003  42760.674\n",
       "6   2004  38450.163\n",
       "7   2005  35004.965\n",
       "8   2006  33824.161\n",
       "9   2007  33028.413\n",
       "10  2008  29378.964\n",
       "11  2009  39116.178\n",
       "12  2010  37037.449\n",
       "13  2011  34633.545\n",
       "14  2012  40084.860\n",
       "15  2013  35137.118\n",
       "16  2014  39621.183\n",
       "17  2015  41208.292\n",
       "18  2016  42212.229\n",
       "19  2017  36619.624"
      ]
     },
     "execution_count": 21,
     "metadata": {},
     "output_type": "execute_result"
    }
   ],
   "source": [
    "data2 = data.groupby('year')['number'].sum().reset_index()\n",
    "data2"
   ]
  },
  {
   "cell_type": "code",
   "execution_count": 23,
   "id": "0a77910f-3e7e-4487-90d8-c2f58cb056d2",
   "metadata": {
    "tags": []
   },
   "outputs": [
    {
     "data": {
      "text/plain": [
       "<Axes: xlabel='year', ylabel='number'>"
      ]
     },
     "execution_count": 23,
     "metadata": {},
     "output_type": "execute_result"
    },
    {
     "data": {
      "image/png": "[encoded data removed]",
      "text/plain": [
       "<Figure size 1600x500 with 1 Axes>"
      ]
     },
     "metadata": {},
     "output_type": "display_data"
    }
   ],
   "source": [
    "plt.figure(figsize=(16, 5))\n",
    "sns.barplot(x=\"year\", y=\"number\", data=data2)"
   ]
  },
  {
   "cell_type": "code",
   "execution_count": 24,
   "id": "979844f1-995e-4c10-81db-15ce3b562a06",
   "metadata": {
    "tags": []
   },
   "outputs": [
    {
     "data": {
      "text/html": [
       "<div>\n",
       "<style scoped>\n",
       "    .dataframe tbody tr th:only-of-type {\n",
       "        vertical-align: middle;\n",
       "    }\n",
       "\n",
       "    .dataframe tbody tr th {\n",
       "        vertical-align: top;\n",
       "    }\n",
       "\n",
       "    .dataframe thead th {\n",
       "        text-align: right;\n",
       "    }\n",
       "</style>\n",
       "<table border=\"1\" class=\"dataframe\">\n",
       "  <thead>\n",
       "    <tr style=\"text-align: right;\">\n",
       "      <th></th>\n",
       "      <th>state</th>\n",
       "      <th>number</th>\n",
       "    </tr>\n",
       "  </thead>\n",
       "  <tbody>\n",
       "    <tr>\n",
       "      <th>0</th>\n",
       "      <td>Acre</td>\n",
       "      <td>18464.030</td>\n",
       "    </tr>\n",
       "    <tr>\n",
       "      <th>1</th>\n",
       "      <td>Alagoas</td>\n",
       "      <td>4606.000</td>\n",
       "    </tr>\n",
       "    <tr>\n",
       "      <th>2</th>\n",
       "      <td>Amapa</td>\n",
       "      <td>21831.576</td>\n",
       "    </tr>\n",
       "    <tr>\n",
       "      <th>3</th>\n",
       "      <td>Amazonas</td>\n",
       "      <td>30650.129</td>\n",
       "    </tr>\n",
       "    <tr>\n",
       "      <th>4</th>\n",
       "      <td>Bahia</td>\n",
       "      <td>44746.226</td>\n",
       "    </tr>\n",
       "    <tr>\n",
       "      <th>5</th>\n",
       "      <td>Ceara</td>\n",
       "      <td>30428.063</td>\n",
       "    </tr>\n",
       "    <tr>\n",
       "      <th>6</th>\n",
       "      <td>Distrito Federal</td>\n",
       "      <td>3561.000</td>\n",
       "    </tr>\n",
       "    <tr>\n",
       "      <th>7</th>\n",
       "      <td>Espirito Santo</td>\n",
       "      <td>6546.000</td>\n",
       "    </tr>\n",
       "    <tr>\n",
       "      <th>8</th>\n",
       "      <td>Goias</td>\n",
       "      <td>37695.520</td>\n",
       "    </tr>\n",
       "    <tr>\n",
       "      <th>9</th>\n",
       "      <td>Maranhao</td>\n",
       "      <td>25129.131</td>\n",
       "    </tr>\n",
       "    <tr>\n",
       "      <th>10</th>\n",
       "      <td>Mato Grosso</td>\n",
       "      <td>96246.028</td>\n",
       "    </tr>\n",
       "    <tr>\n",
       "      <th>11</th>\n",
       "      <td>Minas Gerais</td>\n",
       "      <td>37475.258</td>\n",
       "    </tr>\n",
       "    <tr>\n",
       "      <th>12</th>\n",
       "      <td>Paraiba</td>\n",
       "      <td>52426.918</td>\n",
       "    </tr>\n",
       "    <tr>\n",
       "      <th>13</th>\n",
       "      <td>Pará</td>\n",
       "      <td>24512.144</td>\n",
       "    </tr>\n",
       "    <tr>\n",
       "      <th>14</th>\n",
       "      <td>Pernambuco</td>\n",
       "      <td>24498.000</td>\n",
       "    </tr>\n",
       "    <tr>\n",
       "      <th>15</th>\n",
       "      <td>Piau</td>\n",
       "      <td>37803.747</td>\n",
       "    </tr>\n",
       "    <tr>\n",
       "      <th>16</th>\n",
       "      <td>Rio</td>\n",
       "      <td>45094.865</td>\n",
       "    </tr>\n",
       "    <tr>\n",
       "      <th>17</th>\n",
       "      <td>Rondonia</td>\n",
       "      <td>20285.429</td>\n",
       "    </tr>\n",
       "    <tr>\n",
       "      <th>18</th>\n",
       "      <td>Roraima</td>\n",
       "      <td>24385.074</td>\n",
       "    </tr>\n",
       "    <tr>\n",
       "      <th>19</th>\n",
       "      <td>Santa Catarina</td>\n",
       "      <td>24359.852</td>\n",
       "    </tr>\n",
       "    <tr>\n",
       "      <th>20</th>\n",
       "      <td>Sao Paulo</td>\n",
       "      <td>51121.198</td>\n",
       "    </tr>\n",
       "    <tr>\n",
       "      <th>21</th>\n",
       "      <td>Sergipe</td>\n",
       "      <td>3237.000</td>\n",
       "    </tr>\n",
       "    <tr>\n",
       "      <th>22</th>\n",
       "      <td>Tocantins</td>\n",
       "      <td>33707.885</td>\n",
       "    </tr>\n",
       "  </tbody>\n",
       "</table>\n",
       "</div>"
      ],
      "text/plain": [
       "               state     number\n",
       "0               Acre  18464.030\n",
       "1            Alagoas   4606.000\n",
       "2              Amapa  21831.576\n",
       "3           Amazonas  30650.129\n",
       "4              Bahia  44746.226\n",
       "5              Ceara  30428.063\n",
       "6   Distrito Federal   3561.000\n",
       "7     Espirito Santo   6546.000\n",
       "8              Goias  37695.520\n",
       "9           Maranhao  25129.131\n",
       "10       Mato Grosso  96246.028\n",
       "11      Minas Gerais  37475.258\n",
       "12           Paraiba  52426.918\n",
       "13              Pará  24512.144\n",
       "14        Pernambuco  24498.000\n",
       "15              Piau  37803.747\n",
       "16               Rio  45094.865\n",
       "17          Rondonia  20285.429\n",
       "18           Roraima  24385.074\n",
       "19    Santa Catarina  24359.852\n",
       "20         Sao Paulo  51121.198\n",
       "21           Sergipe   3237.000\n",
       "22         Tocantins  33707.885"
      ]
     },
     "execution_count": 24,
     "metadata": {},
     "output_type": "execute_result"
    }
   ],
   "source": [
    "data3 = data.groupby('state')['number'].sum().reset_index()\n",
    "data3"
   ]
  },
  {
   "cell_type": "code",
   "execution_count": 25,
   "id": "a47835bf-4c7b-41f7-a1f3-c51c8e5cb692",
   "metadata": {
    "tags": []
   },
   "outputs": [
    {
     "data": {
      "text/plain": [
       "<Axes: xlabel='state', ylabel='number'>"
      ]
     },
     "execution_count": 25,
     "metadata": {},
     "output_type": "execute_result"
    },
    {
     "data": {
      "image/png": "[encoded data removed]",
      "text/plain": [
       "<Figure size 1600x500 with 1 Axes>"
      ]
     },
     "metadata": {},
     "output_type": "display_data"
    }
   ],
   "source": [
    "plt.figure(figsize=(16, 5))\n",
    "sns.barplot(x=\"state\", y=\"number\", data=data3)"
   ]
  },
  {
   "cell_type": "code",
   "execution_count": 26,
   "id": "419d411b-a180-4b14-ae47-ad18fd419862",
   "metadata": {
    "tags": []
   },
   "outputs": [
    {
     "data": {
      "text/plain": [
       "718      0.0\n",
       "719      3.0\n",
       "720      7.0\n",
       "721      3.0\n",
       "722     17.0\n",
       "       ...  \n",
       "952     80.0\n",
       "953    236.0\n",
       "954    293.0\n",
       "955    565.0\n",
       "956    133.0\n",
       "Name: number, Length: 239, dtype: float64"
      ]
     },
     "execution_count": 26,
     "metadata": {},
     "output_type": "execute_result"
    }
   ],
   "source": [
    "data[data['state']==\"Amazonas\"]['number']"
   ]
  },
  {
   "cell_type": "code",
   "execution_count": 27,
   "id": "d1a19743-9468-483c-9bcc-e51ded83220a",
   "metadata": {
    "tags": []
   },
   "outputs": [
    {
     "data": {
      "text/plain": [
       "30650.129"
      ]
     },
     "execution_count": 27,
     "metadata": {},
     "output_type": "execute_result"
    }
   ],
   "source": [
    "data[data['state']==\"Amazonas\"]['number'].sum()"
   ]
  },
  {
   "cell_type": "code",
   "execution_count": 31,
   "id": "3f6f4bba-607b-40c2-882a-3741e33ab7fc",
   "metadata": {
    "tags": []
   },
   "outputs": [
    {
     "data": {
      "text/plain": [
       "year\n",
       "1998     946.000\n",
       "1999    1061.000\n",
       "2000     853.000\n",
       "2001    1297.000\n",
       "2002    2852.000\n",
       "2003    1524.268\n",
       "2004    2298.207\n",
       "2005    1657.128\n",
       "2006     997.640\n",
       "2007     589.601\n",
       "2008    2717.000\n",
       "2009    1320.601\n",
       "2010    2324.508\n",
       "2011    1652.538\n",
       "2012    1110.641\n",
       "2013     905.217\n",
       "2014    2385.909\n",
       "2015    1189.994\n",
       "2016    2060.972\n",
       "2017     906.905\n",
       "Name: number, dtype: float64"
      ]
     },
     "execution_count": 31,
     "metadata": {},
     "output_type": "execute_result"
    }
   ],
   "source": [
    "data4 = data[data['state']==\"Amazonas\"]\n",
    "data5 = data4.groupby('year')['number'].sum()\n",
    "data5"
   ]
  },
  {
   "cell_type": "code",
   "execution_count": null,
   "id": "8a36cb09-c54c-4533-9221-a4d3afec4303",
   "metadata": {
    "tags": []
   },
   "outputs": [],
   "source": []
  },
  {
   "cell_type": "code",
   "execution_count": 51,
   "id": "89177215-69c8-4f6d-b0d1-b8f685f37547",
   "metadata": {
    "tags": []
   },
   "outputs": [
    {
     "data": {
      "text/plain": [
       "<pandas.core.groupby.generic.SeriesGroupBy object at 0x0000020028137D50>"
      ]
     },
     "execution_count": 51,
     "metadata": {},
     "output_type": "execute_result"
    }
   ],
   "source": [
    "data6 = data[data['state']==\"Amazonas\"]\n",
    "day = data6.groupby(data6['date'].dt.dayofweek).number\n",
    "\n",
    "import calendar\n",
    "\n",
    "day.index = [calendar.day_name[x] for x in range(0, 7)]\n",
    "day"
   ]
  },
  {
   "cell_type": "code",
   "execution_count": 52,
   "id": "4a2692ba-2b5d-410a-93f5-3e5fa840e90d",
   "metadata": {
    "tags": []
   },
   "outputs": [],
   "source": [
    "fire = data[data['year']==2015].groupby('month')['number'].sum().reset_index();"
   ]
  },
  {
   "cell_type": "code",
   "execution_count": 53,
   "id": "be1ac414-a322-4f28-9617-b2a6ae04c922",
   "metadata": {
    "tags": []
   },
   "outputs": [
    {
     "data": {
      "text/html": [
       "<div>\n",
       "<style scoped>\n",
       "    .dataframe tbody tr th:only-of-type {\n",
       "        vertical-align: middle;\n",
       "    }\n",
       "\n",
       "    .dataframe tbody tr th {\n",
       "        vertical-align: top;\n",
       "    }\n",
       "\n",
       "    .dataframe thead th {\n",
       "        text-align: right;\n",
       "    }\n",
       "</style>\n",
       "<table border=\"1\" class=\"dataframe\">\n",
       "  <thead>\n",
       "    <tr style=\"text-align: right;\">\n",
       "      <th></th>\n",
       "      <th>month</th>\n",
       "      <th>number</th>\n",
       "    </tr>\n",
       "  </thead>\n",
       "  <tbody>\n",
       "    <tr>\n",
       "      <th>0</th>\n",
       "      <td>Abril</td>\n",
       "      <td>2573.000</td>\n",
       "    </tr>\n",
       "    <tr>\n",
       "      <th>1</th>\n",
       "      <td>Agosto</td>\n",
       "      <td>4363.125</td>\n",
       "    </tr>\n",
       "    <tr>\n",
       "      <th>2</th>\n",
       "      <td>Dezembro</td>\n",
       "      <td>4088.522</td>\n",
       "    </tr>\n",
       "    <tr>\n",
       "      <th>3</th>\n",
       "      <td>Fevereiro</td>\n",
       "      <td>2309.000</td>\n",
       "    </tr>\n",
       "    <tr>\n",
       "      <th>4</th>\n",
       "      <td>Janeiro</td>\n",
       "      <td>4635.000</td>\n",
       "    </tr>\n",
       "    <tr>\n",
       "      <th>5</th>\n",
       "      <td>Julho</td>\n",
       "      <td>4364.392</td>\n",
       "    </tr>\n",
       "    <tr>\n",
       "      <th>6</th>\n",
       "      <td>Junho</td>\n",
       "      <td>3260.552</td>\n",
       "    </tr>\n",
       "    <tr>\n",
       "      <th>7</th>\n",
       "      <td>Maio</td>\n",
       "      <td>2384.000</td>\n",
       "    </tr>\n",
       "    <tr>\n",
       "      <th>8</th>\n",
       "      <td>Março</td>\n",
       "      <td>2202.000</td>\n",
       "    </tr>\n",
       "    <tr>\n",
       "      <th>9</th>\n",
       "      <td>Novembro</td>\n",
       "      <td>4034.518</td>\n",
       "    </tr>\n",
       "    <tr>\n",
       "      <th>10</th>\n",
       "      <td>Outubro</td>\n",
       "      <td>4499.525</td>\n",
       "    </tr>\n",
       "    <tr>\n",
       "      <th>11</th>\n",
       "      <td>Setembro</td>\n",
       "      <td>2494.658</td>\n",
       "    </tr>\n",
       "  </tbody>\n",
       "</table>\n",
       "</div>"
      ],
      "text/plain": [
       "        month    number\n",
       "0       Abril  2573.000\n",
       "1      Agosto  4363.125\n",
       "2    Dezembro  4088.522\n",
       "3   Fevereiro  2309.000\n",
       "4     Janeiro  4635.000\n",
       "5       Julho  4364.392\n",
       "6       Junho  3260.552\n",
       "7        Maio  2384.000\n",
       "8       Março  2202.000\n",
       "9    Novembro  4034.518\n",
       "10    Outubro  4499.525\n",
       "11   Setembro  2494.658"
      ]
     },
     "execution_count": 53,
     "metadata": {},
     "output_type": "execute_result"
    }
   ],
   "source": [
    "fire"
   ]
  },
  {
   "cell_type": "code",
   "execution_count": 54,
   "id": "c12880d9-814b-432c-9ea1-78df4b00f642",
   "metadata": {
    "tags": []
   },
   "outputs": [
    {
     "data": {
      "text/plain": [
       "<Axes: xlabel='month', ylabel='number'>"
      ]
     },
     "execution_count": 54,
     "metadata": {},
     "output_type": "execute_result"
    },
    {
     "data": {
      "image/png": "[encoded data removed]",
      "text/plain": [
       "<Figure size 1600x500 with 1 Axes>"
      ]
     },
     "metadata": {},
     "output_type": "display_data"
    }
   ],
   "source": [
    "plt.figure(figsize=(16, 5))\n",
    "sns.barplot(x=\"month\", y=\"number\", data=fire)"
   ]
  },
  {
   "cell_type": "code",
   "execution_count": 57,
   "id": "7db2566d-4850-4761-af85-919eeaebd929",
   "metadata": {
    "tags": []
   },
   "outputs": [],
   "source": [
    "# Average number of fires reported from highest to lowest\n",
    "data8 = data.groupby('state')['number'].mean().sort_values(ascending=False).reset_index()"
   ]
  },
  {
   "cell_type": "code",
   "execution_count": 59,
   "id": "ea3c9006-2004-4794-a705-cc5acec38c7f",
   "metadata": {
    "tags": []
   },
   "outputs": [
    {
     "data": {
      "image/png": "[encoded data removed]",
      "text/plain": [
       "<Figure size 1600x500 with 1 Axes>"
      ]
     },
     "metadata": {},
     "output_type": "display_data"
    }
   ],
   "source": [
    "plt.figure(figsize=(16, 5))\n",
    "sns.barplot(x=\"state\", y=\"number\", data=data8)\n",
    "plt.xticks(rotation=75)\n",
    "plt.show()"
   ]
  },
  {
   "cell_type": "code",
   "execution_count": null,
   "id": "672736ef-e4eb-4d3f-b7df-766138e70d1c",
   "metadata": {},
   "outputs": [],
   "source": []
  }
 ],
 "metadata": {
  "kernelspec": {
   "display_name": "Python 3 (ipykernel)",
   "language": "python",
   "name": "python3"
  },
  "language_info": {
   "codemirror_mode": {
    "name": "ipython",
    "version": 3
   },
   "file_extension": ".py",
   "mimetype": "text/x-python",
   "name": "python",
   "nbconvert_exporter": "python",
   "pygments_lexer": "ipython3",
   "version": "3.11.5"
  }
 },
 "nbformat": 4,
 "nbformat_minor": 5
}
